{
 "cells": [
  {
   "cell_type": "code",
   "execution_count": null,
   "metadata": {
    "collapsed": true
   },
   "outputs": [],
   "source": [
    "import numpy as np\n",
    "import matplotlib.pyplot as plt\n",
    "\n",
    "def load_from_csv(file):\n",
    "    \"\"\"file: filename\n",
    "       return: \n",
    "           features: np.array[ncases, nfeatures]\n",
    "           descriptions: list[nfeatures]\n",
    "           correct_answers: np.array[ncases]\n",
    "    \"\"\"\n",
    "    raw_data = np.genfromtxt(file, delimiter=',', names=True)\n",
    "    raw_descriptions = list(raw_data.dtype.names)\n",
    "    raw_data = np.array(list(map(list, raw_data)))\n",
    "    \n",
    "    features = raw_data[:, 1:-1]\n",
    "    descriptions = raw_descriptions[1:-1]\n",
    "    correct_answers = raw_data[:,-1]  \n",
    "    return features, descriptions, correct_answers\n",
    "\n",
    "def save_to_csv(descriptions, features, correct_answers, file):\n",
    "    \"\"\"descriptions: list[nfeatures]\n",
    "       features: np.array[ncases, nfeatures]\n",
    "       correct_answers: np.array[ncases]\n",
    "       file: filename\n",
    "    \"\"\"\n",
    "    f = open(file, 'wt')\n",
    "    descriptions = [\"ID\"] + descriptions + [\"default.payment.next.month\"]\n",
    "    print(','.join(descriptions), file=f)\n",
    "    for i in range(features.shape[0]):\n",
    "        print(\"%i,%s,%f\" % (i+1, ','.join(map(str, features[i])), correct_answers[i]), file=f)\n",
    "    f.close()"
   ]
  }
 ],
 "metadata": {
  "kernelspec": {
   "display_name": "Python 3",
   "language": "python",
   "name": "python3"
  },
  "language_info": {
   "codemirror_mode": {
    "name": "ipython",
    "version": 3
   },
   "file_extension": ".py",
   "mimetype": "text/x-python",
   "name": "python",
   "nbconvert_exporter": "python",
   "pygments_lexer": "ipython3",
   "version": "3.5.2+"
  }
 },
 "nbformat": 4,
 "nbformat_minor": 2
}
