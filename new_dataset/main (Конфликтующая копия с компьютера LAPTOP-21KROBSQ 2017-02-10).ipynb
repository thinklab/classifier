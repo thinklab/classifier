{
 "cells": [
  {
   "cell_type": "code",
   "execution_count": 25,
   "metadata": {
    "collapsed": false,
    "deletable": true,
    "editable": true
   },
   "outputs": [],
   "source": [
    "import numpy as np\n",
    "import matplotlib.pyplot as plt\n",
    "\n",
    "def load_from_csv(file):\n",
    "    \"\"\"file: filename\n",
    "       return: \n",
    "           features: np.array[ncases, nfeatures]\n",
    "           descriptions: list[nfeatures]\n",
    "           correct_answers: np.array[ncases]\n",
    "    \"\"\"\n",
    "    raw_data = np.genfromtxt(file, delimiter=',', names=True)\n",
    "    descriptions = list(raw_data.dtype.names)\n",
    "    raw_data = np.array(list(map(list, raw_data)))\n",
    "\n",
    "    features = raw_data[:, 1:-1]\n",
    "    correct_answers = raw_data[:,-1]  \n",
    "    return features, descriptions, correct_answers\n",
    "\n",
    "def save_to_csv(descriptions, features, correct_answers, file):\n",
    "    \"\"\"descriptions: list[nfeatures]\n",
    "       features: np.array[ncases, nfeatures]\n",
    "       correct_answers: np.array[ncases]\n",
    "       file: filename\n",
    "    \"\"\"\n",
    "    f = open(file, 'wt')\n",
    "    print(','.join(descriptions), file=f)\n",
    "    for i in range(features.shape[0]):\n",
    "        print(\"%i,%s,%f\" % (i+1, ','.join(map(str, features[i])), correct_answers[i]), file=f)\n",
    "    f.close()\n",
    "    \n",
    "def add_feature(features, descriptions, feature, description):\n",
    "    \"\"\"\n",
    "        features: np.array[ncases, nfeatures]\n",
    "        descriptions: list[nfeatures]\n",
    "        feature: np.array[ncases]\n",
    "        description: str\n",
    "        return:\n",
    "            new_features: np.array[ncases, nfeatures+1]\n",
    "            new_descriptions: list[nfeatures+1]\n",
    "            \n",
    "    \"\"\"\n",
    "    new_features = features.append(feature, 1)\n",
    "    new_descriptions = descriptions + [description]\n",
    "    return new_features, new_descriptions\n",
    "\n",
    "def add_one_hot_encoded_feature(features, descriptions, feature, description):\n",
    "    \"\"\"\n",
    "        features: np.array[ncases, nfeatures]\n",
    "        descriptions: list[nfeatures]\n",
    "        feature: np.array[ncases]\n",
    "        description: str\n",
    "        return:\n",
    "            new_features: np.array[ncases, nfeatures+1]\n",
    "            new_descriptions: list[nfeatures+1]\n",
    "    \"\"\"\n",
    "    hot_features, hot_descriptions = one_hot_encoded_feature(feature, description)\n",
    "    print(\"features \", features.shape)\n",
    "    print(\"hot features\", hot_features.shape)\n",
    "    new_features = np.concatenate([features, hot_features], 1)\n",
    "    new_descriptions = descriptions + hot_descriptions\n",
    "    return new_features, new_descriptions\n",
    "\n",
    "def one_hot_encoded_feature(feature, description):\n",
    "    \"\"\"\n",
    "        feature: np.array[ncases]\n",
    "        description: str\n",
    "        return:\n",
    "            new_features: np.array[ncases,n_one_hot_encoded_features]\n",
    "            new_descriptions: list[n_one_hot_encoded_features]\n",
    "    \"\"\"\n",
    "    unique_values = sorted(set(feature)) #сколько столбцов\n",
    "    new_descriptions = []\n",
    "    for i in range(len(unique_values)):\n",
    "        new_descriptions.append(description + \" = \" + str(unique_values[i]))\n",
    "    feature = feature[:,np.newaxis]\n",
    "    unique_values = np.array(unique_values)\n",
    "    unique_values = unique_values[np.newaxis,:]      \n",
    "    return (feature == unique_values).astype(np.float), new_descriptions\n",
    "\n",
    "\n",
    "LIMIT_BAL = 0\n",
    "SEX = 1\n",
    "EDUCATION = 2\n",
    "MARRIAGE = 3\n",
    "AGE = 4\n",
    "PAY_0 = 5 \n",
    "PAY_2 = 6 \n",
    "PAY_3 = 7\n",
    "PAY_4 = 8\n",
    "PAY_5 = 9\n",
    "PAY_6 = 10\n",
    "BILL_AMT1 = 11\n",
    "BILL_AMT2 = 12\n",
    "BILL_AMT3 = 13\n",
    "BILL_AMT4 = 14\n",
    "BILL_AMT5 = 15\n",
    "BILL_AMT6 = 16\n",
    "PAY_AMT1 = 17\n",
    "PAY_AMT2 = 18\n",
    "PAY_AMT3 = 19\n",
    "PAY_AMT4 = 20\n",
    "PAY_AMT5 = 21\n",
    "PAY_AMT6 = 22"
   ]
  },
  {
   "cell_type": "code",
   "execution_count": 26,
   "metadata": {
    "collapsed": false,
    "deletable": true,
    "editable": true
   },
   "outputs": [
    {
     "name": "stdout",
     "output_type": "stream",
     "text": [
      "features  (30000, 1)\n",
      "hot features (23, 12)\n"
     ]
    },
    {
     "ename": "ValueError",
     "evalue": "all the input array dimensions except for the concatenation axis must match exactly",
     "output_type": "error",
     "traceback": [
      "\u001b[0;31m---------------------------------------------------------------------------\u001b[0m",
      "\u001b[0;31mValueError\u001b[0m                                Traceback (most recent call last)",
      "\u001b[0;32m<ipython-input-26-07b1d3bdfffe>\u001b[0m in \u001b[0;36m<module>\u001b[0;34m()\u001b[0m\n\u001b[1;32m      2\u001b[0m \u001b[0mnf\u001b[0m \u001b[1;33m=\u001b[0m \u001b[0mnp\u001b[0m\u001b[1;33m.\u001b[0m\u001b[0mones\u001b[0m\u001b[1;33m(\u001b[0m\u001b[1;33m(\u001b[0m\u001b[0mfeatures\u001b[0m\u001b[1;33m.\u001b[0m\u001b[0mshape\u001b[0m\u001b[1;33m[\u001b[0m\u001b[1;36m0\u001b[0m\u001b[1;33m]\u001b[0m\u001b[1;33m,\u001b[0m \u001b[0mSEX\u001b[0m\u001b[1;33m)\u001b[0m\u001b[1;33m)\u001b[0m\u001b[1;33m\u001b[0m\u001b[0m\n\u001b[1;32m      3\u001b[0m \u001b[0mnd\u001b[0m \u001b[1;33m=\u001b[0m \u001b[1;33m[\u001b[0m\u001b[1;34m\"1\"\u001b[0m\u001b[1;33m]\u001b[0m\u001b[1;33m\u001b[0m\u001b[0m\n\u001b[0;32m----> 4\u001b[0;31m \u001b[0mnf\u001b[0m\u001b[1;33m,\u001b[0m \u001b[0mnd\u001b[0m \u001b[1;33m=\u001b[0m \u001b[0madd_one_hot_encoded_feature\u001b[0m\u001b[1;33m(\u001b[0m\u001b[0mnf\u001b[0m\u001b[1;33m,\u001b[0m \u001b[0mnd\u001b[0m\u001b[1;33m,\u001b[0m \u001b[0mfeatures\u001b[0m\u001b[1;33m[\u001b[0m\u001b[0mSEX\u001b[0m\u001b[1;33m]\u001b[0m\u001b[1;33m,\u001b[0m \u001b[0mdescriptions\u001b[0m\u001b[1;33m[\u001b[0m\u001b[0mSEX\u001b[0m\u001b[1;33m]\u001b[0m\u001b[1;33m)\u001b[0m\u001b[1;33m\u001b[0m\u001b[0m\n\u001b[0m\u001b[1;32m      5\u001b[0m \u001b[0mprint\u001b[0m\u001b[1;33m(\u001b[0m\u001b[1;34m\"ok\"\u001b[0m\u001b[1;33m)\u001b[0m\u001b[1;33m\u001b[0m\u001b[0m\n",
      "\u001b[0;32m<ipython-input-25-b970bf6de4b8>\u001b[0m in \u001b[0;36madd_one_hot_encoded_feature\u001b[0;34m(features, descriptions, feature, description)\u001b[0m\n\u001b[1;32m     57\u001b[0m     \u001b[0mprint\u001b[0m\u001b[1;33m(\u001b[0m\u001b[1;34m\"features \"\u001b[0m\u001b[1;33m,\u001b[0m \u001b[0mfeatures\u001b[0m\u001b[1;33m.\u001b[0m\u001b[0mshape\u001b[0m\u001b[1;33m)\u001b[0m\u001b[1;33m\u001b[0m\u001b[0m\n\u001b[1;32m     58\u001b[0m     \u001b[0mprint\u001b[0m\u001b[1;33m(\u001b[0m\u001b[1;34m\"hot features\"\u001b[0m\u001b[1;33m,\u001b[0m \u001b[0mhot_features\u001b[0m\u001b[1;33m.\u001b[0m\u001b[0mshape\u001b[0m\u001b[1;33m)\u001b[0m\u001b[1;33m\u001b[0m\u001b[0m\n\u001b[0;32m---> 59\u001b[0;31m     \u001b[0mnew_features\u001b[0m \u001b[1;33m=\u001b[0m \u001b[0mnp\u001b[0m\u001b[1;33m.\u001b[0m\u001b[0mconcatenate\u001b[0m\u001b[1;33m(\u001b[0m\u001b[1;33m[\u001b[0m\u001b[0mfeatures\u001b[0m\u001b[1;33m,\u001b[0m \u001b[0mhot_features\u001b[0m\u001b[1;33m]\u001b[0m\u001b[1;33m,\u001b[0m \u001b[1;36m1\u001b[0m\u001b[1;33m)\u001b[0m\u001b[1;33m\u001b[0m\u001b[0m\n\u001b[0m\u001b[1;32m     60\u001b[0m     \u001b[0mnew_descriptions\u001b[0m \u001b[1;33m=\u001b[0m \u001b[0mdescriptions\u001b[0m \u001b[1;33m+\u001b[0m \u001b[0mhot_descriptions\u001b[0m\u001b[1;33m\u001b[0m\u001b[0m\n\u001b[1;32m     61\u001b[0m     \u001b[1;32mreturn\u001b[0m \u001b[0mnew_features\u001b[0m\u001b[1;33m,\u001b[0m \u001b[0mnew_descriptions\u001b[0m\u001b[1;33m\u001b[0m\u001b[0m\n",
      "\u001b[0;31mValueError\u001b[0m: all the input array dimensions except for the concatenation axis must match exactly"
     ]
    }
   ],
   "source": [
    "features, descriptions, correct_answers = load_from_csv('ccard.csv')\n",
    "nf = np.ones((features.shape[0], SEX))\n",
    "nd = [\"1\"]\n",
    "nf, nd = add_one_hot_encoded_feature(nf, nd, features[SEX], descriptions[SEX]) \n",
    "print(\"ok\")\n"
   ]
  },
  {
   "cell_type": "code",
   "execution_count": null,
   "metadata": {
    "collapsed": false,
    "deletable": true,
    "editable": true
   },
   "outputs": [],
   "source": [
    "a = np.array([[1,2],[3,4]])\n",
    "a[:,-1:-1] = np.array([5,6])\n",
    "print(a)"
   ]
  },
  {
   "cell_type": "code",
   "execution_count": null,
   "metadata": {
    "collapsed": true
   },
   "outputs": [],
   "source": []
  }
 ],
 "metadata": {
  "kernelspec": {
   "display_name": "Python 3",
   "language": "python",
   "name": "python3"
  },
  "language_info": {
   "codemirror_mode": {
    "name": "ipython",
    "version": 3
   },
   "file_extension": ".py",
   "mimetype": "text/x-python",
   "name": "python",
   "nbconvert_exporter": "python",
   "pygments_lexer": "ipython3",
   "version": "3.6.0"
  }
 },
 "nbformat": 4,
 "nbformat_minor": 2
}
