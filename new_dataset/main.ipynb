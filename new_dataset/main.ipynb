{
 "cells": [
  {
   "cell_type": "code",
   "execution_count": 4,
   "metadata": {
    "collapsed": false,
    "deletable": true,
    "editable": true
   },
   "outputs": [],
   "source": [
    "import numpy as np\n",
    "import matplotlib.pyplot as plt\n",
    "\n",
    "def load_from_csv(file):\n",
    "    \"\"\"file: filename\n",
    "       return: \n",
    "           descriptions: list[nfeatures]\n",
    "           features: np.array[ncases, nfeatures]\n",
    "           correct_answers: np.array[ncases]\n",
    "    \"\"\"\n",
    "    raw_data = np.genfromtxt(file, delimiter=',', names=True)\n",
    "    descriptions = raw_data.dtype.names \n",
    "    raw_data = np.array(list(map(list, raw_data)))\n",
    "\n",
    "    features = raw_data[:, 1:-1]\n",
    "    correct_answers = raw_data[:,-1]  \n",
    "    return descriptions, features, correct_answers\n",
    "\n",
    "def save_to_csv(descriptions, features, correct_answers, file):\n",
    "    \"\"\"descriptions: list[nfeatures]\n",
    "       features: np.array[ncases, nfeatures]\n",
    "       correct_answers: np.array[ncases]\n",
    "       file: filename\n",
    "    \"\"\"\n",
    "    f = open(file, 'wt')\n",
    "    print(','.join(descriptions), file=f)\n",
    "    for i in range(features.shape[0]):\n",
    "        print(\"%i,%s,%f\" % (i+1, ','.join(map(str, features[i])), correct_answers[i]), file=f)\n",
    "    f.close()\n",
    "    \n"
   ]
  },
  {
   "cell_type": "code",
   "execution_count": 5,
   "metadata": {
    "collapsed": false,
    "deletable": true,
    "editable": true
   },
   "outputs": [
    {
     "name": "stdout",
     "output_type": "stream",
     "text": [
      "ok\n"
     ]
    }
   ],
   "source": [
    "descriptions, features, correct_answers = load_from_csv('ccard.csv')\n",
    "save_to_csv(descriptions, features, correct_answers, 'ccard1.csv')\n",
    "print(\"ok\")\n"
   ]
  },
  {
   "cell_type": "code",
   "execution_count": null,
   "metadata": {
    "collapsed": true,
    "deletable": true,
    "editable": true
   },
   "outputs": [],
   "source": []
  }
 ],
 "metadata": {
  "kernelspec": {
   "display_name": "Python 3",
   "language": "python",
   "name": "python3"
  },
  "language_info": {
   "codemirror_mode": {
    "name": "ipython",
    "version": 3
   },
   "file_extension": ".py",
   "mimetype": "text/x-python",
   "name": "python",
   "nbconvert_exporter": "python",
   "pygments_lexer": "ipython3",
   "version": "3.5.2+"
  }
 },
 "nbformat": 4,
 "nbformat_minor": 2
}
